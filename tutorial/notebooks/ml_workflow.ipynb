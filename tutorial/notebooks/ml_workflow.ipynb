{
 "cells": [
  {
   "cell_type": "code",
   "execution_count": 1,
   "metadata": {},
   "outputs": [
    {
     "name": "stderr",
     "output_type": "stream",
     "text": [
      "A newer version (0.4) of nipype/pydra is available. You are using 0.3.1+47.g665ddc5.dirty\n"
     ]
    }
   ],
   "source": [
    "import pydra\n",
    "\n",
    "import matplotlib.pyplot as plt\n",
    "import sklearn"
   ]
  },
  {
   "cell_type": "markdown",
   "metadata": {},
   "source": [
    "# Machine Learning Workflow"
   ]
  },
  {
   "cell_type": "markdown",
   "metadata": {},
   "source": [
    "Hyperparameter tuning is an important step in developing machine learning models.  \n",
    "XXX You learned how to run multiple tasks within a pipeline with *pydra* `Workflow` in the `intro_workflow` tutorial.  \n",
    "\n",
    "\n",
    "Let's initiate a `Workflow` with **MNIST** data as input: "
   ]
  },
  {
   "cell_type": "code",
   "execution_count": 2,
   "metadata": {},
   "outputs": [],
   "source": [
    "from sklearn import datasets\n",
    "\n",
    "digits = datasets.load_digits(n_class=10, return_X_y=False)"
   ]
  },
  {
   "cell_type": "code",
   "execution_count": 3,
   "metadata": {},
   "outputs": [
    {
     "data": {
      "text/plain": [
       "array([[ 0.,  0.,  0., 12., 13.,  5.,  0.,  0.],\n",
       "       [ 0.,  0.,  0., 11., 16.,  9.,  0.,  0.],\n",
       "       [ 0.,  0.,  3., 15., 16.,  6.,  0.,  0.],\n",
       "       [ 0.,  7., 15., 16., 16.,  2.,  0.,  0.],\n",
       "       [ 0.,  0.,  1., 16., 16.,  3.,  0.,  0.],\n",
       "       [ 0.,  0.,  1., 16., 16.,  6.,  0.,  0.],\n",
       "       [ 0.,  0.,  1., 16., 16.,  6.,  0.,  0.],\n",
       "       [ 0.,  0.,  0., 11., 16., 10.,  0.,  0.]])"
      ]
     },
     "execution_count": 3,
     "metadata": {},
     "output_type": "execute_result"
    }
   ],
   "source": [
    "digits.images[1]"
   ]
  },
  {
   "cell_type": "code",
   "execution_count": 4,
   "metadata": {},
   "outputs": [
    {
     "data": {
      "image/png": "[encoded data removed]",
      "text/plain": [
       "<Figure size 432x288 with 5 Axes>"
      ]
     },
     "metadata": {
      "needs_background": "light"
     },
     "output_type": "display_data"
    }
   ],
   "source": [
    "import random\n",
    "random.seed(10)\n",
    "\n",
    "_, axes = plt.subplots(1, 5)\n",
    "images_and_labels = list(zip(digits.images, digits.target))\n",
    "for ax, (image, label) in zip(axes[:], random.sample(images_and_labels, 5)):\n",
    "    ax.set_axis_off()\n",
    "    ax.imshow(image, cmap=plt.cm.gray_r, interpolation='nearest')\n",
    "    ax.set_title('Label: %i' % label)"
   ]
  },
  {
   "cell_type": "markdown",
   "metadata": {},
   "source": [
    "Let's build a workflow with one model only to start.  Here we use SVM (Support Vector Machine) for classification"
   ]
  },
  {
   "cell_type": "code",
   "execution_count": 5,
   "metadata": {},
   "outputs": [],
   "source": [
    "from sklearn.model_selection import train_test_split\n",
    "from sklearn.svm import SVC\n",
    "n_samples = len(digits.images)\n",
    "data = digits.images.reshape((n_samples, -1))\n",
    "\n",
    "# Split data into train and test subsets\n",
    "X_train, X_test, y_train, y_test = train_test_split(\n",
    "    data, digits.target, test_size=0.5, shuffle=False)"
   ]
  },
  {
   "cell_type": "markdown",
   "metadata": {},
   "source": [
    "## Define `FunctionTask`"
   ]
  },
  {
   "cell_type": "code",
   "execution_count": 6,
   "metadata": {},
   "outputs": [],
   "source": [
    "import typing as ty\n",
    "\n",
    "# https://scikit-learn.org/stable/modules/generated/sklearn.svm.LinearSVC.html#sklearn.svm.LinearSVC\n",
    "# linear SVM\n",
    "@pydra.mark.task\n",
    "@pydra.mark.annotate({\"return\": {\"clf\": ty.Any}})\n",
    "def fit_SVM(X_tr, y_tr, C=1, kernel='rbf', gamma=1):\n",
    "    from sklearn.svm import SVC\n",
    "    clf = SVC(C=C, kernel=kernel, gamma=gamma)\n",
    "    clf.fit(X_tr, y_tr)\n",
    "    return(clf)\n",
    "\n",
    "# metrics\n",
    "from sklearn import metrics\n",
    "@pydra.mark.task\n",
    "@pydra.mark.annotate({\"return\": {\"score\": ty.Any}})\n",
    "def metric_score(clf, X_tt, y_tt, metric):\n",
    "    \n",
    "    y_pred = clf.predict(X_tt)\n",
    "    \n",
    "    from sklearn import metrics\n",
    "    if metric == 'accuracy':\n",
    "        score = metrics.accuracy_score(y_tt, y_pred)\n",
    "    elif metric == 'precision':\n",
    "        score = metrics.precision_score(y_tt, y_pred, average='micro')\n",
    "    else:\n",
    "        score = metrics.recall_score(y_tt, y_pred, average='micro')\n",
    "    return(score)\n",
    "    "
   ]
  },
  {
   "cell_type": "code",
   "execution_count": 7,
   "metadata": {},
   "outputs": [
    {
     "data": {
      "text/plain": [
       "(899, 64)"
      ]
     },
     "execution_count": 7,
     "metadata": {},
     "output_type": "execute_result"
    }
   ],
   "source": [
    "X_test.shape"
   ]
  },
  {
   "cell_type": "markdown",
   "metadata": {},
   "source": [
    "# Create workflow"
   ]
  },
  {
   "cell_type": "code",
   "execution_count": 8,
   "metadata": {},
   "outputs": [],
   "source": [
    "input_grid = {'X_tr': X_train,\n",
    "              'X_tt': X_test,\n",
    "              'y_tr': y_train,\n",
    "              'y_tt': y_test,\n",
    "              'C': [0.1, 1, 10, 100], \n",
    "              'gamma': [1,0.1,0.01,0.001], #'gamma': ['scale', 'auto'],\n",
    "              'kernel': 'rbf',\n",
    "              'metric': ['accuracy', 'precision', 'recall']}"
   ]
  },
  {
   "cell_type": "code",
   "execution_count": 9,
   "metadata": {
    "scrolled": true
   },
   "outputs": [
    {
     "data": {
      "text/plain": [
       "[Result(output=Output(score=0.10122358175750834), runtime=None, errored=False),\n",
       " Result(output=Output(score=0.10122358175750834), runtime=None, errored=False),\n",
       " Result(output=Output(score=0.10122358175750834), runtime=None, errored=False),\n",
       " Result(output=Output(score=0.10122358175750834), runtime=None, errored=False),\n",
       " Result(output=Output(score=0.10122358175750834), runtime=None, errored=False),\n",
       " Result(output=Output(score=0.10122358175750834), runtime=None, errored=False),\n",
       " Result(output=Output(score=0.10122358175750834), runtime=None, errored=False),\n",
       " Result(output=Output(score=0.10122358175750834), runtime=None, errored=False),\n",
       " Result(output=Output(score=0.10122358175750834), runtime=None, errored=False),\n",
       " Result(output=Output(score=0.10122358175750834), runtime=None, errored=False),\n",
       " Result(output=Output(score=0.10122358175750834), runtime=None, errored=False),\n",
       " Result(output=Output(score=0.10122358175750834), runtime=None, errored=False),\n",
       " Result(output=Output(score=0.10122358175750834), runtime=None, errored=False),\n",
       " Result(output=Output(score=0.10122358175750834), runtime=None, errored=False),\n",
       " Result(output=Output(score=0.10122358175750834), runtime=None, errored=False),\n",
       " Result(output=Output(score=0.10122358175750834), runtime=None, errored=False),\n",
       " Result(output=Output(score=0.10122358175750834), runtime=None, errored=False),\n",
       " Result(output=Output(score=0.10122358175750834), runtime=None, errored=False),\n",
       " Result(output=Output(score=0.10122358175750834), runtime=None, errored=False),\n",
       " Result(output=Output(score=0.10122358175750834), runtime=None, errored=False),\n",
       " Result(output=Output(score=0.10122358175750834), runtime=None, errored=False),\n",
       " Result(output=Output(score=0.10122358175750834), runtime=None, errored=False),\n",
       " Result(output=Output(score=0.10122358175750834), runtime=None, errored=False),\n",
       " Result(output=Output(score=0.10122358175750834), runtime=None, errored=False),\n",
       " Result(output=Output(score=0.10122358175750834), runtime=None, errored=False),\n",
       " Result(output=Output(score=0.10122358175750834), runtime=None, errored=False),\n",
       " Result(output=Output(score=0.10122358175750834), runtime=None, errored=False),\n",
       " Result(output=Output(score=0.6974416017797553), runtime=None, errored=False),\n",
       " Result(output=Output(score=0.6974416017797553), runtime=None, errored=False),\n",
       " Result(output=Output(score=0.6974416017797553), runtime=None, errored=False),\n",
       " Result(output=Output(score=0.7063403781979978), runtime=None, errored=False),\n",
       " Result(output=Output(score=0.7063403781979978), runtime=None, errored=False),\n",
       " Result(output=Output(score=0.7063403781979978), runtime=None, errored=False),\n",
       " Result(output=Output(score=0.7063403781979978), runtime=None, errored=False),\n",
       " Result(output=Output(score=0.7063403781979978), runtime=None, errored=False),\n",
       " Result(output=Output(score=0.7063403781979978), runtime=None, errored=False),\n",
       " Result(output=Output(score=0.9210233592880979), runtime=None, errored=False),\n",
       " Result(output=Output(score=0.9210233592880979), runtime=None, errored=False),\n",
       " Result(output=Output(score=0.9210233592880979), runtime=None, errored=False),\n",
       " Result(output=Output(score=0.9688542825361512), runtime=None, errored=False),\n",
       " Result(output=Output(score=0.9688542825361512), runtime=None, errored=False),\n",
       " Result(output=Output(score=0.9688542825361512), runtime=None, errored=False),\n",
       " Result(output=Output(score=0.9699666295884316), runtime=None, errored=False),\n",
       " Result(output=Output(score=0.9699666295884316), runtime=None, errored=False),\n",
       " Result(output=Output(score=0.9699666295884316), runtime=None, errored=False),\n",
       " Result(output=Output(score=0.9699666295884316), runtime=None, errored=False),\n",
       " Result(output=Output(score=0.9699666295884316), runtime=None, errored=False),\n",
       " Result(output=Output(score=0.9699666295884316), runtime=None, errored=False)]"
      ]
     },
     "execution_count": 9,
     "metadata": {},
     "output_type": "execute_result"
    }
   ],
   "source": [
    "# Working!\n",
    "wf = pydra.Workflow(name=\"svm\", \n",
    "                     input_spec=list(input_grid.keys()), **input_grid)\n",
    "\n",
    "wf.split(['gamma', 'C', 'metric'])\n",
    "wf.add(fit_SVM(name='fit_clf', \n",
    "                X_tr=wf.lzin.X_tr, y_tr=wf.lzin.y_tr, kernel=wf.lzin.kernel,\n",
    "                C=wf.lzin.C, gamma=wf.lzin.gamma))  \n",
    "\n",
    "wf.add(metric_score(name='calc_metric', \n",
    "                     clf=wf.fit_clf.lzout.clf, metric=wf.lzin.metric,\n",
    "                     X_tt=wf.lzin.X_tt, y_tt=wf.lzin.y_tt))\n",
    "        \n",
    "wf.set_output([(\"score\", wf.calc_metric.lzout.score)])\n",
    "\n",
    "with pydra.Submitter(plugin=\"cf\") as sub:\n",
    "    sub(wf)\n",
    "\n",
    "wf.result()"
   ]
  }
 ],
 "metadata": {
  "kernelspec": {
   "display_name": "Python 3",
   "language": "python",
   "name": "python3"
  },
  "language_info": {
   "codemirror_mode": {
    "name": "ipython",
    "version": 3
   },
   "file_extension": ".py",
   "mimetype": "text/x-python",
   "name": "python",
   "nbconvert_exporter": "python",
   "pygments_lexer": "ipython3",
   "version": "3.7.6"
  }
 },
 "nbformat": 4,
 "nbformat_minor": 4
}

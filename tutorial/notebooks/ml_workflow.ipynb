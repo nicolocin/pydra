{
 "cells": [
  {
   "cell_type": "code",
   "execution_count": 1,
   "metadata": {},
   "outputs": [],
   "source": [
    "import pydra\n",
    "\n",
    "import matplotlib.pyplot as plt\n",
    "import sklearn"
   ]
  },
  {
   "cell_type": "code",
   "execution_count": 2,
   "metadata": {},
   "outputs": [
    {
     "name": "stdout",
     "output_type": "stream",
     "text": [
      "Requirement already satisfied: sklearn in /Users/gablab/anaconda3/envs/pydra/lib/python3.7/site-packages (0.0)\n",
      "Requirement already satisfied: scikit-learn in /Users/gablab/anaconda3/envs/pydra/lib/python3.7/site-packages (from sklearn) (0.22.2.post1)\n",
      "Requirement already satisfied: numpy>=1.11.0 in /Users/gablab/anaconda3/envs/pydra/lib/python3.7/site-packages (from scikit-learn->sklearn) (1.18.2)\n",
      "Requirement already satisfied: scipy>=0.17.0 in /Users/gablab/anaconda3/envs/pydra/lib/python3.7/site-packages (from scikit-learn->sklearn) (1.4.1)\n",
      "Requirement already satisfied: joblib>=0.11 in /Users/gablab/anaconda3/envs/pydra/lib/python3.7/site-packages (from scikit-learn->sklearn) (0.14.1)\n",
      "Requirement already satisfied: matplotlib in /Users/gablab/anaconda3/envs/pydra/lib/python3.7/site-packages (3.2.1)\n",
      "Requirement already satisfied: cycler>=0.10 in /Users/gablab/anaconda3/envs/pydra/lib/python3.7/site-packages (from matplotlib) (0.10.0)\n",
      "Requirement already satisfied: kiwisolver>=1.0.1 in /Users/gablab/anaconda3/envs/pydra/lib/python3.7/site-packages (from matplotlib) (1.1.0)\n",
      "Requirement already satisfied: pyparsing!=2.0.4,!=2.1.2,!=2.1.6,>=2.0.1 in /Users/gablab/anaconda3/envs/pydra/lib/python3.7/site-packages (from matplotlib) (2.4.6)\n",
      "Requirement already satisfied: numpy>=1.11 in /Users/gablab/anaconda3/envs/pydra/lib/python3.7/site-packages (from matplotlib) (1.18.2)\n",
      "Requirement already satisfied: python-dateutil>=2.1 in /Users/gablab/anaconda3/envs/pydra/lib/python3.7/site-packages (from matplotlib) (2.8.1)\n",
      "Requirement already satisfied: six in /Users/gablab/anaconda3/envs/pydra/lib/python3.7/site-packages (from cycler>=0.10->matplotlib) (1.14.0)\n",
      "Requirement already satisfied: setuptools in /Users/gablab/anaconda3/envs/pydra/lib/python3.7/site-packages (from kiwisolver>=1.0.1->matplotlib) (46.1.1.post20200323)\n"
     ]
    }
   ],
   "source": [
    "# load data\n",
    "!pip install sklearn\n",
    "!pip install matplotlib"
   ]
  },
  {
   "cell_type": "markdown",
   "metadata": {},
   "source": [
    "# Machine Learning Workflow"
   ]
  },
  {
   "cell_type": "markdown",
   "metadata": {},
   "source": [
    "Hyperparameter tuning is an important step in developing machine learning models.  \n",
    "XXX You learned how to run multiple tasks within a pipeline with *pydra* `Workflow` in the `intro_workflow` tutorial.  \n",
    "\n",
    "\n",
    "Let's initiate a `Workflow` with **MNIST** data as input: "
   ]
  },
  {
   "cell_type": "code",
   "execution_count": 3,
   "metadata": {},
   "outputs": [],
   "source": [
    "from sklearn import datasets\n",
    "\n",
    "digits = datasets.load_digits(n_class=10, return_X_y=False)"
   ]
  },
  {
   "cell_type": "code",
   "execution_count": 13,
   "metadata": {},
   "outputs": [
    {
     "data": {
      "text/plain": [
       "array([[ 0.,  0.,  0., 12., 13.,  5.,  0.,  0.],\n",
       "       [ 0.,  0.,  0., 11., 16.,  9.,  0.,  0.],\n",
       "       [ 0.,  0.,  3., 15., 16.,  6.,  0.,  0.],\n",
       "       [ 0.,  7., 15., 16., 16.,  2.,  0.,  0.],\n",
       "       [ 0.,  0.,  1., 16., 16.,  3.,  0.,  0.],\n",
       "       [ 0.,  0.,  1., 16., 16.,  6.,  0.,  0.],\n",
       "       [ 0.,  0.,  1., 16., 16.,  6.,  0.,  0.],\n",
       "       [ 0.,  0.,  0., 11., 16., 10.,  0.,  0.]])"
      ]
     },
     "execution_count": 13,
     "metadata": {},
     "output_type": "execute_result"
    }
   ],
   "source": [
    "digits.images[1]"
   ]
  },
  {
   "cell_type": "code",
   "execution_count": null,
   "metadata": {},
   "outputs": [],
   "source": []
  },
  {
   "cell_type": "code",
   "execution_count": 11,
   "metadata": {},
   "outputs": [
    {
     "data": {
      "image/png": "[encoded data removed]",
      "text/plain": [
       "<Figure size 432x288 with 10 Axes>"
      ]
     },
     "metadata": {
      "needs_background": "light"
     },
     "output_type": "display_data"
    }
   ],
   "source": [
    "import random\n",
    "random.seed(10)\n",
    "\n",
    "_, axes = plt.subplots(2, 5)\n",
    "images_and_labels = list(zip(digits.images, digits.target))\n",
    "for ax, (image, label) in zip(axes[0, :], random.sample(images_and_labels, 5)):\n",
    "    ax.set_axis_off()\n",
    "    ax.imshow(image, cmap=plt.cm.gray_r, interpolation='nearest')\n",
    "    ax.set_title('Training: %i' % label)\n"
   ]
  },
  {
   "cell_type": "code",
   "execution_count": 14,
   "metadata": {},
   "outputs": [],
   "source": [
    "## Support Vector Machine"
   ]
  },
  {
   "cell_type": "markdown",
   "metadata": {},
   "source": [
    "Let's build a workflow with one model only to start.  Here we use SVM (Support Vector Machine) for classification"
   ]
  },
  {
   "cell_type": "markdown",
   "metadata": {},
   "source": [
    "## Define `FunctionTask`"
   ]
  },
  {
   "cell_type": "code",
   "execution_count": null,
   "metadata": {},
   "outputs": [],
   "source": [
    "# \n"
   ]
  },
  {
   "cell_type": "code",
   "execution_count": 101,
   "metadata": {},
   "outputs": [],
   "source": [
    "import typing as ty\n",
    "\n",
    "# https://scikit-learn.org/stable/modules/generated/sklearn.svm.LinearSVC.html#sklearn.svm.LinearSVC\n",
    "# linear SVM\n",
    "@pydra.mark.task\n",
    "#@pydra.mark.annotate({\"return\": {\"clf\": ty.Any}})\n",
    "def fit_SVM(X_tr, y_tr, C=1, kernel='rbf', gamma=1):\n",
    "    from sklearn.svm import SVC\n",
    "    clf = SVC(C=C, kernel=kernel, gamma=gamma)\n",
    "    clf.fit(X_tr, y_tr)\n",
    "    return(404)\n",
    "\n",
    "# metrics\n",
    "@pydra.mark.task\n",
    "#@pydra.mark.annotate({\"return\": {\"score\": ty.Any}})\n",
    "def metric_score(clf, X_tt, y_tt, metric):\n",
    "    \n",
    "    y_pred = clf.predict(X_tt)\n",
    "    \n",
    "    from sklearn import metrics\n",
    "    if metric == 'accuracy':\n",
    "        score = metrics.accuracy_score(y_tt, y_pred)\n",
    "    elif metric == 'precision':\n",
    "        score = metrics.precision_score(y_tt, y_pred)\n",
    "    else:\n",
    "        score = metrics.recall_score(y_tt, y_pred)\n",
    "    return(score)\n",
    "    "
   ]
  },
  {
   "cell_type": "code",
   "execution_count": 99,
   "metadata": {},
   "outputs": [
    {
     "name": "stdout",
     "output_type": "stream",
     "text": [
      "SVC(C=1.0, break_ties=False, cache_size=200, class_weight=None, coef0=0.0,\n",
      "    decision_function_shape='ovr', degree=3, gamma='scale', kernel='rbf',\n",
      "    max_iter=-1, probability=False, random_state=None, shrinking=True,\n",
      "    tol=0.001, verbose=False)\n"
     ]
    }
   ],
   "source": [
    "from sklearn.model_selection import train_test_split\n",
    "from sklearn.svm import SVC\n",
    "n_samples = len(digits.images)\n",
    "data = digits.images.reshape((n_samples, -1))\n",
    "\n",
    "# Split data into train and test subsets\n",
    "X_train, X_test, y_train, y_test = train_test_split(\n",
    "    data, digits.target, test_size=0.5, shuffle=False)\n",
    "\n",
    "data[1]\n",
    "\n",
    "clf = SVC()\n",
    "clf.fit(X_train, y_train)\n",
    "\n",
    "print(clf)"
   ]
  },
  {
   "cell_type": "code",
   "execution_count": 100,
   "metadata": {},
   "outputs": [
    {
     "data": {
      "text/plain": [
       "(899, 64)"
      ]
     },
     "execution_count": 100,
     "metadata": {},
     "output_type": "execute_result"
    }
   ],
   "source": [
    "X_test.shape"
   ]
  },
  {
   "cell_type": "markdown",
   "metadata": {},
   "source": [
    "# Create workflow"
   ]
  },
  {
   "cell_type": "code",
   "execution_count": 38,
   "metadata": {},
   "outputs": [],
   "source": [
    "input_grid = {'X_tr': X_train,\n",
    "              'X_tt': X_test,\n",
    "              'y_tr': y_train,\n",
    "              'y_tt': y_test,\n",
    "              'C': [0.1,1, 10, 100], \n",
    "              'gamma': [1,0.1,0.01,0.001], #'gamma': ['scale', 'auto'],\n",
    "              'kernel': ['rbf', 'poly', 'sigmoid']}"
   ]
  },
  {
   "cell_type": "code",
   "execution_count": 102,
   "metadata": {},
   "outputs": [],
   "source": [
    "# for fit_SVM\n",
    "input_grid = {'X_tr': X_train,\n",
    "              #'X_tt': X_test,\n",
    "              'y_tr': y_train,\n",
    "              #'y_tt': y_test,\n",
    "              'C': 1, \n",
    "              'gamma': [1,0.1,0.01,0.001], #'gamma': ['scale', 'auto'],\n",
    "              'kernel': 'rbf',\n",
    "              'metric': ['accuracy', 'precision', 'recall']}\n",
    "\n",
    "# for metrics\n",
    "#metric_list = ['accuracy', 'precision', 'recall']"
   ]
  },
  {
   "cell_type": "code",
   "execution_count": 104,
   "metadata": {},
   "outputs": [],
   "source": [
    "wf1 = pydra.Workflow(name=\"svm1\", \n",
    "                     input_spec=list(input_grid.keys()), **input_grid)\n",
    "wf1.split('gamma')\n",
    "wf1.add(fit_SVM(name='svm', **input_grid))\n",
    "wf1.set_output([(\"out\", wf1.svm.lzout.out)])\n",
    "\n",
    "#wf1.add(metric_score(name='metric', clf=wf1.svm.lzout.out,\n",
    "#                     X_tt=wf1.lzin.X_tt, y_tt=wf1.lzin.y_tt, metric=wf1.lzin.metric))\n",
    "\n",
    "#wf1.set_output([(\"clf\", wf1.svm.lzout.out),\n",
    "#                (\"score\", wf1.metric.lzout.out)\n",
    "#               ])\n",
    "\n",
    "\n",
    "#with pydra.Submitter(plugin=\"cf\") as sub:\n",
    "#    sub(wf1)\n",
    "\n",
    "wf1.result()"
   ]
  },
  {
   "cell_type": "code",
   "execution_count": 85,
   "metadata": {},
   "outputs": [],
   "source": [
    "wf1 = pydra.Workflow(name=\"svm1\", \n",
    "                     input_spec=list(input_grid.keys()), **input_grid)"
   ]
  },
  {
   "cell_type": "code",
   "execution_count": 86,
   "metadata": {},
   "outputs": [
    {
     "data": {
      "text/plain": [
       "<pydra.engine.core.Workflow at 0x11f3615d0>"
      ]
     },
     "execution_count": 86,
     "metadata": {},
     "output_type": "execute_result"
    }
   ],
   "source": [
    "wf1"
   ]
  },
  {
   "cell_type": "code",
   "execution_count": null,
   "metadata": {},
   "outputs": [],
   "source": []
  }
 ],
 "metadata": {
  "kernelspec": {
   "display_name": "Python 3",
   "language": "python",
   "name": "python3"
  },
  "language_info": {
   "codemirror_mode": {
    "name": "ipython",
    "version": 3
   },
   "file_extension": ".py",
   "mimetype": "text/x-python",
   "name": "python",
   "nbconvert_exporter": "python",
   "pygments_lexer": "ipython3",
   "version": "3.7.6"
  }
 },
 "nbformat": 4,
 "nbformat_minor": 4
}
